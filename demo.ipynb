{
 "cells": [
  {
   "cell_type": "markdown",
   "metadata": {},
   "source": [
    "Implemented on top of AzureML.\n",
    "Reference: https://docs.microsoft.com/en-us/azure/machine-learning/"
   ]
  },
  {
   "cell_type": "markdown",
   "metadata": {},
   "source": [
    "Pipelines are going to be created inside some Azure ML workspace.\n",
    "If you already have one, you can get the reference:"
   ]
  },
  {
   "cell_type": "code",
   "execution_count": null,
   "metadata": {},
   "outputs": [],
   "source": [
    "from azureml.core import Workspace\n",
    "\n",
    "ws = Workspace.from_config()"
   ]
  },
  {
   "cell_type": "markdown",
   "metadata": {},
   "source": [
    "In case if you do not have, any you can either create it on Azure portal or programmatically:"
   ]
  },
  {
   "cell_type": "code",
   "execution_count": null,
   "metadata": {},
   "outputs": [],
   "source": [
    "from azureml.core import Workspace\n",
    "\n",
    "ws = Workspace.create(name='ataymano-mlw3',\n",
    "                      subscription_id='9a2d7383-3c7d-492c-94fc-ba65be408672', \n",
    "                      resource_group='cps-dev-ataymano',\n",
    "                      create_resource_group=False,\n",
    "                      location='eastus' \n",
    "                     )\n",
    "ws.write_config()\n",
    "ws.get_details()"
   ]
  },
  {
   "cell_type": "markdown",
   "metadata": {},
   "source": [
    "This is a library of pipeline steps / primitives for creating batch training pipelines from logs produced by personalization service. Also, you can find some recipe pipelines which can be either used as-is or as a reference."
   ]
  },
  {
   "cell_type": "markdown",
   "metadata": {},
   "source": [
    "For creating pipeline application context is required:"
   ]
  },
  {
   "cell_type": "code",
   "execution_count": null,
   "metadata": {},
   "outputs": [],
   "source": [
    "import application\n",
    "from application import context\n",
    "\n",
    "ctx = context.Context(\n",
    "    accountName = 'ataymanodev', # Azure storage account name\n",
    "    accountKey = 'WxDBTcax+bxLNc6ECKWLKU0ZTj5ZKUV67ei5eiyi2dR2NlONZrh8jby9YpONf8sHH8kJGA9ZAz6FDR9CQOyd2g==', # Azure storage key\n",
    "    appId = 'batchpresentation', # application name\n",
    "    appFolder = '20190212000000' # application folder\n",
    ")"
   ]
  },
  {
   "cell_type": "markdown",
   "metadata": {},
   "source": [
    "Now you can create batch training pipeline for vw batch training:"
   ]
  },
  {
   "cell_type": "code",
   "execution_count": null,
   "metadata": {
    "scrolled": true
   },
   "outputs": [],
   "source": [
    "import pipelines\n",
    "from pipelines import vw_train\n",
    "\n",
    "pipeline = vw_train.create_pipeline(ws, ctx)"
   ]
  },
  {
   "cell_type": "markdown",
   "metadata": {},
   "source": [
    "Created pipeline can be either submitted for execution:"
   ]
  },
  {
   "cell_type": "code",
   "execution_count": null,
   "metadata": {},
   "outputs": [],
   "source": [
    "from azureml.core import Experiment\n",
    "\n",
    "pipeline_run = Experiment(ws, 'VW_presentation').submit(\n",
    "    pipeline,\n",
    "    pipeline_params = {\n",
    "        \"start_datetime\":'02/19/2019 00:00:00',\n",
    "        \"end_datetime\":'02/19/2019 23:59:54'})\n",
    "\n",
    "print(\"Train Pipeline is submitted for execution\")"
   ]
  },
  {
   "cell_type": "code",
   "execution_count": null,
   "metadata": {},
   "outputs": [],
   "source": [
    "from azureml.widgets import RunDetails\n",
    "RunDetails(pipeline_run).show()"
   ]
  },
  {
   "cell_type": "markdown",
   "metadata": {},
   "source": [
    "Or published to be available via REST endpoint:"
   ]
  },
  {
   "cell_type": "code",
   "execution_count": null,
   "metadata": {},
   "outputs": [],
   "source": [
    "published_pipeline = pipeline.publish(name=\"VW_train_demo_1\", description=\"Example vw train pipeline\")\n",
    "print(published_pipeline.id)\n",
    "print(published_pipeline.endpoint)"
   ]
  },
  {
   "cell_type": "markdown",
   "metadata": {},
   "source": [
    "Example of REST call:\n",
    "Reference for better understanding of Azure ML authentication:\n",
    "https://github.com/Azure/MachineLearningNotebooks/blob/f16bf27e26d6ff7a2cf76e8cbcda4ccc9c878a0c/how-to-use-azureml/manage-azureml-service/authentication-in-azureml/authentication-in-azure-ml.ipynb"
   ]
  },
  {
   "cell_type": "code",
   "execution_count": null,
   "metadata": {},
   "outputs": [],
   "source": [
    "\n",
    "from azureml.core.authentication import InteractiveLoginAuthentication\n",
    "import requests\n",
    "\n",
    "auth = InteractiveLoginAuthentication()\n",
    "aad_token = auth.get_authentication_header()\n",
    "\n",
    "response = requests.post('https://eastus2.aether.ms/api/v1.0/subscriptions/9a2d7383-3c7d-492c-94fc-ba65be408672/resourceGroups/cps-dev-ataymano/providers/Microsoft.MachineLearningServices/workspaces/ataymano-mlw/PipelineRuns/PipelineSubmit/3b89b658-f571-4354-8c02-f521148af0eb', \n",
    "    headers=aad_token, \n",
    "    json={\"ExperimentName\": \"VW_train_demo_1\",\n",
    "        \"ParameterAssignments\": {\"start_datetime\":'02/19/2019 00:00:00',\"end_datetime\":'02/19/2019 23:59:59'}})"
   ]
  },
  {
   "cell_type": "code",
   "execution_count": null,
   "metadata": {},
   "outputs": [],
   "source": [
    "from azureml.widgets import RunDetails\n",
    "RunDetails(pipeline_run).show()"
   ]
  },
  {
   "cell_type": "markdown",
   "metadata": {},
   "source": [
    "Hyperparameter sweep"
   ]
  },
  {
   "cell_type": "code",
   "execution_count": null,
   "metadata": {},
   "outputs": [],
   "source": [
    "from azureml.core import Workspace\n",
    "from application import context\n",
    "from pipelines import iris_vw_sweep\n",
    "ws = Workspace.from_config()\n",
    "ctx_small = context.Context(\n",
    "    accountName = 'ataymanodev',\n",
    "    accountKey = 'WxDBTcax+bxLNc6ECKWLKU0ZTj5ZKUV67ei5eiyi2dR2NlONZrh8jby9YpONf8sHH8kJGA9ZAz6FDR9CQOyd2g==',\n",
    "    appId = 'iris',\n",
    "    appFolder = 'folder')\n",
    "pipeline_sweep = iris_vw_sweep.create_pipeline(ws, ctx_small, parallel_jobs = 100)"
   ]
  },
  {
   "cell_type": "code",
   "execution_count": null,
   "metadata": {},
   "outputs": [],
   "source": [
    "from azureml.core import Workspace\n",
    "from application import context\n",
    "from pipelines import vw_sweep\n",
    "ws = Workspace.from_config()\n",
    "ctx_small = context.Context(\n",
    "    accountName = 'deliveryengine',\n",
    "    accountKey = 'kgKgenBIeaEmJCPn0eF+CzTEiKjU319y9iICReMj9OEZTHHpX6gLRoPxj1f7j3e6XVa3HbtyiJHaGV0Vrtp8Rw==',\n",
    "    appId = 'iris1-prod',\n",
    "    appFolder = '20181101180623')\n",
    "pipeline_sweep = vw_sweep.create_pipeline(ws, ctx_small, parallel_jobs = 100)"
   ]
  },
  {
   "cell_type": "code",
   "execution_count": null,
   "metadata": {},
   "outputs": [],
   "source": [
    "from azureml.core import Workspace\n",
    "from application import context\n",
    "from pipelines import vw_sweep\n",
    "ws = Workspace.from_config()\n",
    "ctx_small = context.Context(\n",
    "    accountName = 'cpsdevtesting',\n",
    "    accountKey = 'fClbjXXTI1tobGIH6t+EvWpPm3GSqq6U4CzXc7rS6UDCLw2DIVNYtp9u9Wd+IZkTyx9AYmsOQ9oMDYBktX2bIg==',\n",
    "    appId = 'tutorial-003-sl',\n",
    "    appFolder = '20181019175455')\n",
    "pipeline_sweep = vw_sweep.create_pipeline(ws, ctx_small, parallel_jobs = 100)"
   ]
  },
  {
   "cell_type": "code",
   "execution_count": 1,
   "metadata": {},
   "outputs": [
    {
     "name": "stdout",
     "output_type": "stream",
     "text": [
      "Found the config file in: C:\\Users\\ataymano\\source\\reinforcement_learning\\batch\\aml_config\\config.json\n",
      "Found existing cluster: python\n",
      "Best command selection step is created successfully\n"
     ]
    },
    {
     "ename": "AttributeError",
     "evalue": "'PipelineParameter' object has no attribute 'replace'",
     "output_type": "error",
     "traceback": [
      "\u001b[1;31m---------------------------------------------------------------------------\u001b[0m",
      "\u001b[1;31mAttributeError\u001b[0m                            Traceback (most recent call last)",
      "\u001b[1;32m<ipython-input-1-44dea48bd1ec>\u001b[0m in \u001b[0;36m<module>\u001b[1;34m\u001b[0m\n\u001b[0;32m      3\u001b[0m \u001b[1;32mfrom\u001b[0m \u001b[0mpipelines\u001b[0m \u001b[1;32mimport\u001b[0m \u001b[0msweep_clean\u001b[0m\u001b[1;33m\u001b[0m\u001b[0m\n\u001b[0;32m      4\u001b[0m \u001b[0mws\u001b[0m \u001b[1;33m=\u001b[0m \u001b[0mWorkspace\u001b[0m\u001b[1;33m.\u001b[0m\u001b[0mfrom_config\u001b[0m\u001b[1;33m(\u001b[0m\u001b[1;33m)\u001b[0m\u001b[1;33m\u001b[0m\u001b[0m\n\u001b[1;32m----> 5\u001b[1;33m \u001b[0mpipeline_sweep\u001b[0m \u001b[1;33m=\u001b[0m \u001b[0msweep_clean\u001b[0m\u001b[1;33m.\u001b[0m\u001b[0mcreate_pipeline\u001b[0m\u001b[1;33m(\u001b[0m\u001b[0mws\u001b[0m\u001b[1;33m,\u001b[0m \u001b[0mparallel_jobs\u001b[0m \u001b[1;33m=\u001b[0m \u001b[1;36m100\u001b[0m\u001b[1;33m)\u001b[0m\u001b[1;33m\u001b[0m\u001b[0m\n\u001b[0m",
      "\u001b[1;32m~\\source\\reinforcement_learning\\batch\\pipelines\\sweep_clean.py\u001b[0m in \u001b[0;36mcreate_pipeline\u001b[1;34m(ws, parallel_jobs)\u001b[0m\n\u001b[0;32m     42\u001b[0m     extractStep = extract_step.extract_step(\n\u001b[0;32m     43\u001b[0m         \u001b[0mworkspace\u001b[0m \u001b[1;33m=\u001b[0m \u001b[0mws\u001b[0m\u001b[1;33m,\u001b[0m\u001b[1;33m\u001b[0m\u001b[0m\n\u001b[1;32m---> 44\u001b[1;33m         context = ctx)\n\u001b[0m\u001b[0;32m     45\u001b[0m \u001b[1;33m\u001b[0m\u001b[0m\n\u001b[0;32m     46\u001b[0m \u001b[1;33m\u001b[0m\u001b[0m\n",
      "\u001b[1;32m~\\source\\reinforcement_learning\\batch\\steps\\extract_step.py\u001b[0m in \u001b[0;36m__init__\u001b[1;34m(self, workspace, context)\u001b[0m\n\u001b[0;32m     14\u001b[0m     \u001b[1;32mdef\u001b[0m \u001b[0m__init__\u001b[0m\u001b[1;33m(\u001b[0m\u001b[0mself\u001b[0m\u001b[1;33m,\u001b[0m \u001b[0mworkspace\u001b[0m\u001b[1;33m,\u001b[0m \u001b[0mcontext\u001b[0m\u001b[1;33m)\u001b[0m\u001b[1;33m:\u001b[0m\u001b[1;33m\u001b[0m\u001b[0m\n\u001b[0;32m     15\u001b[0m         self.input = DataReference(\n\u001b[1;32m---> 16\u001b[1;33m                 \u001b[0mdatastore\u001b[0m \u001b[1;33m=\u001b[0m \u001b[0mcontext\u001b[0m\u001b[1;33m.\u001b[0m\u001b[0mget_datastore\u001b[0m\u001b[1;33m(\u001b[0m\u001b[0mworkspace\u001b[0m\u001b[1;33m)\u001b[0m\u001b[1;33m,\u001b[0m\u001b[1;33m\u001b[0m\u001b[0m\n\u001b[0m\u001b[0;32m     17\u001b[0m                 \u001b[0mdata_reference_name\u001b[0m \u001b[1;33m=\u001b[0m \u001b[1;34m\"Application_logs\"\u001b[0m\u001b[1;33m,\u001b[0m\u001b[1;33m\u001b[0m\u001b[0m\n\u001b[0;32m     18\u001b[0m                 path_on_datastore = context.appFolder)\n",
      "\u001b[1;32m~\\source\\reinforcement_learning\\batch\\application\\context.py\u001b[0m in \u001b[0;36mget_datastore\u001b[1;34m(self, workspace)\u001b[0m\n\u001b[0;32m     13\u001b[0m \u001b[1;33m\u001b[0m\u001b[0m\n\u001b[0;32m     14\u001b[0m     \u001b[1;32mdef\u001b[0m \u001b[0mget_datastore\u001b[0m\u001b[1;33m(\u001b[0m\u001b[0mself\u001b[0m\u001b[1;33m,\u001b[0m \u001b[0mworkspace\u001b[0m\u001b[1;33m)\u001b[0m\u001b[1;33m:\u001b[0m\u001b[1;33m\u001b[0m\u001b[0m\n\u001b[1;32m---> 15\u001b[1;33m         \u001b[0mname\u001b[0m \u001b[1;33m=\u001b[0m \u001b[0mself\u001b[0m\u001b[1;33m.\u001b[0m\u001b[0m_datastore_name\u001b[0m\u001b[1;33m(\u001b[0m\u001b[1;33m)\u001b[0m\u001b[1;33m\u001b[0m\u001b[0m\n\u001b[0m\u001b[0;32m     16\u001b[0m         \u001b[1;32mif\u001b[0m \u001b[0mname\u001b[0m \u001b[1;32min\u001b[0m \u001b[0mworkspace\u001b[0m\u001b[1;33m.\u001b[0m\u001b[0mdatastores\u001b[0m\u001b[1;33m:\u001b[0m\u001b[1;33m\u001b[0m\u001b[0m\n\u001b[0;32m     17\u001b[0m             \u001b[0mprint\u001b[0m\u001b[1;33m(\u001b[0m\u001b[1;34m\"Data store for the app context {\"\u001b[0m \u001b[1;33m+\u001b[0m \u001b[0mname\u001b[0m \u001b[1;33m+\u001b[0m \u001b[1;34m\"} is found\"\u001b[0m\u001b[1;33m)\u001b[0m\u001b[1;33m\u001b[0m\u001b[0m\n",
      "\u001b[1;32m~\\source\\reinforcement_learning\\batch\\application\\context.py\u001b[0m in \u001b[0;36m_datastore_name\u001b[1;34m(self)\u001b[0m\n\u001b[0;32m     10\u001b[0m \u001b[1;33m\u001b[0m\u001b[0m\n\u001b[0;32m     11\u001b[0m     \u001b[1;32mdef\u001b[0m \u001b[0m_datastore_name\u001b[0m\u001b[1;33m(\u001b[0m\u001b[0mself\u001b[0m\u001b[1;33m)\u001b[0m\u001b[1;33m:\u001b[0m\u001b[1;33m\u001b[0m\u001b[0m\n\u001b[1;32m---> 12\u001b[1;33m         \u001b[1;32mreturn\u001b[0m \u001b[0mself\u001b[0m\u001b[1;33m.\u001b[0m\u001b[0maccountName\u001b[0m \u001b[1;33m+\u001b[0m \u001b[0mself\u001b[0m\u001b[1;33m.\u001b[0m\u001b[0mappId\u001b[0m\u001b[1;33m.\u001b[0m\u001b[0mreplace\u001b[0m\u001b[1;33m(\u001b[0m\u001b[1;34m'-'\u001b[0m\u001b[1;33m,\u001b[0m \u001b[1;34m''\u001b[0m\u001b[1;33m)\u001b[0m\u001b[1;33m\u001b[0m\u001b[0m\n\u001b[0m\u001b[0;32m     13\u001b[0m \u001b[1;33m\u001b[0m\u001b[0m\n\u001b[0;32m     14\u001b[0m     \u001b[1;32mdef\u001b[0m \u001b[0mget_datastore\u001b[0m\u001b[1;33m(\u001b[0m\u001b[0mself\u001b[0m\u001b[1;33m,\u001b[0m \u001b[0mworkspace\u001b[0m\u001b[1;33m)\u001b[0m\u001b[1;33m:\u001b[0m\u001b[1;33m\u001b[0m\u001b[0m\n",
      "\u001b[1;31mAttributeError\u001b[0m: 'PipelineParameter' object has no attribute 'replace'"
     ]
    }
   ],
   "source": [
    "from azureml.core import Workspace\n",
    "from application import context\n",
    "from pipelines import sweep_clean\n",
    "ws = Workspace.from_config()\n",
    "pipeline_sweep = sweep_clean.create_pipeline(ws, parallel_jobs = 100)"
   ]
  },
  {
   "cell_type": "code",
   "execution_count": null,
   "metadata": {},
   "outputs": [],
   "source": []
  },
  {
   "cell_type": "code",
   "execution_count": null,
   "metadata": {
    "scrolled": true
   },
   "outputs": [],
   "source": [
    "from azureml.core import Experiment  \n",
    "regen_outputs = False\n",
    "sweep_pipeline_run = Experiment(ws, 'tutorial-demo-012').submit(pipeline_sweep, \n",
    "                                                                     pipeline_params={\n",
    "                                                                            \"start_datetime\":'10/12/2018 00:00:00',\n",
    "                                                                            \"end_datetime\":'10/12/2018 23:59:59',\n",
    "                                                                            \"base_command\": '--cb_adf --dsjson',\n",
    "                                                                          #  \"extra_1\": '--cb_explore_adf --epsilon 0.2 --dsjson --cb_type mtr --power_t 0.5 -l 0.001  --marginal A -q PA',\n",
    "                                                                          #  \"extra_2\": '--cb_explore_adf --epsilon 0.2 --dsjson --cb_type mtr --l1 1E-06 --power_t 0.5 -l 0.001 -q PA'\n",
    "                                                                       }, regenerate_outputs=regen_outputs)\n",
    "print(\"Sweep Pipeline is submitted for execution\", )\n",
    "from azureml.widgets import RunDetails\n",
    "RunDetails(sweep_pipeline_run).show()"
   ]
  },
  {
   "cell_type": "code",
   "execution_count": null,
   "metadata": {},
   "outputs": [],
   "source": [
    "sweep_pipeline_run.cancel()"
   ]
  },
  {
   "cell_type": "code",
   "execution_count": null,
   "metadata": {},
   "outputs": [],
   "source": [
    "published_sweep_pipeline = pipeline_sweep.publish(name=\"Tutorial_Demo_05\", description=\"Hyper parameter tuning pipeline\")\n",
    "print(published_sweep_pipeline.id)\n",
    "print(published_sweep_pipeline.endpoint)"
   ]
  },
  {
   "cell_type": "code",
   "execution_count": null,
   "metadata": {},
   "outputs": [],
   "source": [
    "\n",
    "from azureml.core.authentication import InteractiveLoginAuthentication\n",
    "import requests\n",
    "\n",
    "auth = InteractiveLoginAuthentication()\n",
    "aad_token = auth.get_authentication_header()\n",
    "\n",
    "#/pipelines/subscriptions/9a2d7383-3c7d-492c-94fc-ba65be408672/resourceGroups/cps-dev-ataymano/providers/Microsoft.MachineLearningServices/workspaces/ataymano-mlw3/experiment/undefined/run/264d80ae-efe4-46ee-98f0-a48daef6e703?accessedAt=1551131966105&clientOptimizations=&l=en.en-us&trustedAuthority=https%3A%2F%2Fms.portal.azure.com&shellVersion=undefined\n",
    "#endpoint = published_sweep_pipeline.endpoint\n",
    "endpoint = \"https://eastus.aether.ms/api/v1.0/subscriptions/9a2d7383-3c7d-492c-94fc-ba65be408672/resourceGroups/cps-dev-ataymano/providers/Microsoft.MachineLearningServices/workspaces/ataymano-mlw3/PipelineRuns/PipelineSubmit/eed1411e-968f-40d3-9688-0735f81ebac4\"\n",
    "response = requests.post(endpoint, \n",
    "    headers=aad_token, \n",
    "    json={\"ExperimentName\": \"Iris_demo_tags_1\",\n",
    "        \"ParameterAssignments\": \n",
    "          {\n",
    "                                                                            \"start_datetime\":'11/8/2018 00:00:00',\n",
    "                                                                            \"end_datetime\":'11/20/2018 23:59:59',\n",
    "                                                                            \"base_command\": '--cb_adf --dsjson',\n",
    "                                                                            \"extra_1\": '--cb_explore_adf --epsilon 0.2 --dsjson --cb_type mtr --power_t 0.5 -l 0.001  --marginal A -q PA',\n",
    "                                                                            \"extra_2\": '--cb_explore_adf --epsilon 0.2 --dsjson --cb_type mtr --l1 1E-06 --power_t 0.5 -l 0.001 -q PA'\n",
    "#            \"start_datetime\":'11/08/2018 00:00:00',\n",
    "#            \"end_datetime\":'11/20/2018 23:59:59',\n",
    "#            \"base_command\": '--cb_adf --dsjson'\n",
    "          }})\n",
    "response"
   ]
  },
  {
   "cell_type": "code",
   "execution_count": null,
   "metadata": {},
   "outputs": [],
   "source": [
    "from azureml.core.authentication import InteractiveLoginAuthentication\n",
    "import requests\n",
    "\n",
    "auth = InteractiveLoginAuthentication()\n",
    "auth.get_authentication_header()"
   ]
  },
  {
   "cell_type": "code",
   "execution_count": null,
   "metadata": {},
   "outputs": [],
   "source": [
    "from azureml.core import Experiment\n",
    "regen_outputs = False\n",
    "sweep_pipeline_run = Experiment(ws, 'vw_cache_sweep_e2e_middle_1').submit(pipeline_sweep, \n",
    "                                                                       pipeline_params={\n",
    "                                                                           \"start_datetime\":'10/28/2018 00:00:00',\n",
    "                                                                           \"end_datetime\":'10/29/2018 23:59:55',\n",
    "                                                                           \"base_command\": '--cb_explore_adf --dsjson'\n",
    "                                                                       }, regenerate_outputs=regen_outputs)\n",
    "print(\"Train Pipeline is submitted for execution\", )"
   ]
  },
  {
   "cell_type": "code",
   "execution_count": null,
   "metadata": {},
   "outputs": [],
   "source": [
    "from azureml.widgets import RunDetails\n",
    "RunDetails(sweep_pipeline_run).show()"
   ]
  },
  {
   "cell_type": "code",
   "execution_count": null,
   "metadata": {},
   "outputs": [],
   "source": [
    "sweep_pipeline_run.cancel()\n"
   ]
  },
  {
   "cell_type": "code",
   "execution_count": null,
   "metadata": {},
   "outputs": [],
   "source": [
    "from azureml.core import Workspace\n",
    "from application import context\n",
    "from pipelines import vw_sweep\n",
    "ws = Workspace.from_config()\n",
    "ctx_large = context.Context(\n",
    "    accountName = 'ataymanodev',\n",
    "    accountKey = 'WxDBTcax+bxLNc6ECKWLKU0ZTj5ZKUV67ei5eiyi2dR2NlONZrh8jby9YpONf8sHH8kJGA9ZAz6FDR9CQOyd2g==',\n",
    "    appId = 'large',\n",
    "    appFolder = 'folder')\n",
    "pipeline_sweep_large = vw_sweep.create_pipeline(ws, ctx_large, power_t_range = '1e-9:2e-9:2e-9', parallel_jobs = 100)\n",
    "from azureml.core import Experiment\n",
    "sweep_pipeline_run = Experiment(ws, 'vw_cache_sweep_large').submit(pipeline_sweep_large, pipeline_params={\"start_datetime\":'10/29/2018 00:00:00',\"end_datetime\":'10/29/2018 23:59:55'})\n",
    "print(\"Train Pipeline is submitted for execution\")"
   ]
  },
  {
   "cell_type": "code",
   "execution_count": null,
   "metadata": {},
   "outputs": [],
   "source": [
    "from azureml.core import Workspace\n",
    "from application import context\n",
    "from pipelines import vw_sweep\n",
    "ws = Workspace.from_config()\n",
    "ctx_large = context.Context(\n",
    "    accountName = 'ataymanodev',\n",
    "    accountKey = 'WxDBTcax+bxLNc6ECKWLKU0ZTj5ZKUV67ei5eiyi2dR2NlONZrh8jby9YpONf8sHH8kJGA9ZAz6FDR9CQOyd2g==',\n",
    "    appId = 'large',\n",
    "    appFolder = 'folder')\n",
    "pipeline_sweep_large = vw_sweep.create_pipeline(ws, ctx_large, power_t_range = '1e-9:2e-9:5e-10', parallel_jobs = 100)\n",
    "from azureml.core import Experiment\n",
    "sweep_pipeline_run = Experiment(ws, 'vw_cache_sweep_large_whole_file').submit(pipeline_sweep_large, pipeline_params={\"start_datetime\":'10/28/2018 00:00:00',\"end_datetime\":'10/30/2018 23:59:55'})\n",
    "print(\"Train Pipeline is submitted for execution\")"
   ]
  },
  {
   "cell_type": "code",
   "execution_count": null,
   "metadata": {},
   "outputs": [],
   "source": [
    "from azureml.widgets import RunDetails\n",
    "RunDetails(sweep_pipeline_run).show()"
   ]
  },
  {
   "cell_type": "code",
   "execution_count": null,
   "metadata": {},
   "outputs": [],
   "source": [
    "from azureml.core.authentication import InteractiveLoginAuthentication\n",
    "import requests\n",
    "\n",
    "auth = InteractiveLoginAuthentication()"
   ]
  },
  {
   "cell_type": "code",
   "execution_count": null,
   "metadata": {},
   "outputs": [],
   "source": [
    "auth\n"
   ]
  },
  {
   "cell_type": "code",
   "execution_count": null,
   "metadata": {},
   "outputs": [],
   "source": [
    "auth."
   ]
  },
  {
   "cell_type": "code",
   "execution_count": null,
   "metadata": {},
   "outputs": [],
   "source": []
  }
 ],
 "metadata": {
  "kernelspec": {
   "display_name": "Python 3",
   "language": "python",
   "name": "python3"
  },
  "language_info": {
   "codemirror_mode": {
    "name": "ipython",
    "version": 3
   },
   "file_extension": ".py",
   "mimetype": "text/x-python",
   "name": "python",
   "nbconvert_exporter": "python",
   "pygments_lexer": "ipython3",
   "version": "3.6.5"
  }
 },
 "nbformat": 4,
 "nbformat_minor": 2
}
