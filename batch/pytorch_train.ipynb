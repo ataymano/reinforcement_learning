{
 "nbformat": 4,
 "nbformat_minor": 2,
 "metadata": {
  "language_info": {
   "name": "python",
   "codemirror_mode": {
    "name": "ipython",
    "version": 3
   },
   "version": "3.7.5-final"
  },
  "orig_nbformat": 2,
  "file_extension": ".py",
  "mimetype": "text/x-python",
  "name": "python",
  "npconvert_exporter": "python",
  "pygments_lexer": "ipython3",
  "version": 3,
  "kernelspec": {
   "name": "python37564bitbdafc9cb9e1f46b3a387fe08a2bcaea5",
   "display_name": "Python 3.7.5 64-bit"
  }
 },
 "cells": [
  {
   "cell_type": "code",
   "execution_count": null,
   "metadata": {},
   "outputs": [],
   "source": [
    "import azureml.core\n",
    "from azureml.core.workspace import Workspace\n",
    "\n",
    "ws = Workspace.from_config()\n",
    "print('Workspace name: ' + ws.name, \n",
    "      'Azure region: ' + ws.location, \n",
    "      'Resource group: ' + ws.resource_group, sep = '\\n')"
   ]
  },
  {
   "cell_type": "code",
   "execution_count": null,
   "metadata": {},
   "outputs": [],
   "source": [
    "from azureml.core.compute import ComputeTarget, AmlCompute\n",
    "from azureml.core.compute_target import ComputeTargetException\n",
    "\n",
    "# choose a name for your cluster\n",
    "cluster_name = \"cpu-cluster\"\n",
    "\n",
    "try:\n",
    "    compute_target = ComputeTarget(workspace=ws, name=cluster_name)\n",
    "    print('Found existing compute target.')\n",
    "except ComputeTargetException:\n",
    "    print('Creating a new compute target...')\n",
    "    compute_config = AmlCompute.provisioning_configuration(vm_size='STANDARD_D2V3', \n",
    "                                                                max_nodes=6)\n",
    "\n",
    "    # create the cluster\n",
    "    compute_target = ComputeTarget.create(ws, cluster_name, compute_config)\n",
    "\n",
    "compute_target.wait_for_completion(show_output=True)\n",
    "\n",
    "# Use the 'status' property to get a detailed status for the current cluster. \n",
    "print(compute_target.status.serialize())"
   ]
  },
  {
   "cell_type": "code",
   "execution_count": null,
   "metadata": {},
   "outputs": [],
   "source": [
    "import os\n",
    "\n",
    "project_folder = './experiment'\n",
    "os.makedirs(project_folder, exist_ok=True)\n",
    "import shutil\n",
    "shutil.copytree('common', project_folder + '/common')\n",
    "shutil.copytree('adapters', project_folder + '/adapters')\n",
    "shutil.copy('pytorch_train.py', project_folder)\n"
   ]
  },
  {
   "cell_type": "code",
   "execution_count": null,
   "metadata": {},
   "outputs": [],
   "source": [
    "from azureml.core import Experiment\n",
    "\n",
    "experiment_name = 'mnist'\n",
    "experiment = Experiment(ws, name=experiment_name)"
   ]
  },
  {
   "cell_type": "code",
   "execution_count": null,
   "metadata": {},
   "outputs": [],
   "source": [
    "from common import context\n",
    "#Fill your app credentials here\n",
    "app_context = context.Context(account_name = '', \\\n",
    "    account_key = '', \\\n",
    "    container = '', \\\n",
    "    folder = '')    \n"
   ]
  },
  {
   "cell_type": "code",
   "execution_count": null,
   "metadata": {},
   "outputs": [],
   "source": [
    "from azureml.train.dnn import PyTorch\n",
    "\n",
    "estimator = PyTorch(source_directory=project_folder, \n",
    "                    script_params={'--batch-size': '8',\n",
    "                                    '--account-name': app_context.account_name,\n",
    "                                    '--account-key': app_context.account_key,\n",
    "                                    '--container': app_context.container,\n",
    "                                    '--folder': app_context.folder,\n",
    "                                    '--start-date': '2020-02-29',\n",
    "                                    '--end_date': '2020-03-01'},\n",
    "                    compute_target=compute_target,\n",
    "                    entry_script='pytorch_train.py',\n",
    "                    use_gpu=True,\n",
    "                    pip_packages=['azure-storage-blob', 'azure-storage'])\n",
    "\n",
    "# upgrade to PyTorch 1.0 Preview, which has better support for ONNX\n",
    "estimator.conda_dependencies.remove_conda_package('pytorch-0.4.0')\n",
    "estimator.conda_dependencies.add_conda_package('pytorch-nightly')\n",
    "estimator.conda_dependencies.add_conda_package('torchvision')\n",
    "estimator.conda_dependencies.add_channel('pytorch')"
   ]
  },
  {
   "cell_type": "code",
   "execution_count": null,
   "metadata": {},
   "outputs": [],
   "source": [
    "run = experiment.submit(estimator)\n",
    "print(run.get_details())"
   ]
  },
  {
   "cell_type": "code",
   "execution_count": null,
   "metadata": {},
   "outputs": [],
   "source": [
    "model_path_exp = os.path.join('outputs', 'current.onnx')\n",
    "model_path_local = '/Users/ataymano/data/byom/downloaded/current.onnx'\n",
    "run.download_file(model_path_exp, output_file_path=model_path_local)\n",
    "print('Model is downloaded')\n",
    " \n",
    "app_context.deploy_model(model_path_local)\n",
    "print('Model is deployed')\n"
   ]
  },
  {
   "cell_type": "code",
   "execution_count": null,
   "metadata": {},
   "outputs": [],
   "source": []
  }
 ]
}