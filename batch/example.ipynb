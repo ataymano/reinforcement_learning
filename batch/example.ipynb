{
 "cells": [
  {
   "cell_type": "markdown",
   "metadata": {},
   "source": [
    "Implemented on top of AzureML.\n",
    "Reference: https://docs.microsoft.com/en-us/azure/machine-learning/"
   ]
  },
  {
   "cell_type": "markdown",
   "metadata": {},
   "source": [
    "Pipelines are going to be created inside some Azure ML workspace.\n",
    "If you already have one, you can get the reference:"
   ]
  },
  {
   "cell_type": "code",
   "execution_count": 1,
   "metadata": {},
   "outputs": [
    {
     "name": "stdout",
     "output_type": "stream",
     "text": [
      "Found the config file in: C:\\dev\\reinforcement_learning\\batch\\aml_config\\config.json\n"
     ]
    }
   ],
   "source": [
    "# if you already have a workspace created, just run this to initialize workspace config\n",
    "# if you haven't created a workspace, skip this\n",
    "from azureml.core import Workspace\n",
    "\n",
    "ws = Workspace.from_config()"
   ]
  },
  {
   "cell_type": "markdown",
   "metadata": {},
   "source": [
    "In case if you do not have, any you can either create it on Azure portal or programmatically:"
   ]
  },
  {
   "cell_type": "code",
   "execution_count": null,
   "metadata": {
    "scrolled": true
   },
   "outputs": [],
   "source": [
    "# if you don't have a workspace already created then run this step\n",
    "from azureml.core import Workspace\n",
    "ws = Workspace.create(name = \"cheng_dashboard_tutorial_test\",\n",
    "                      subscription_id = \"9a2d7383-3c7d-492c-94fc-ba65be408672\",\n",
    "                      resource_group = \"cps-dev-cheng\",\n",
    "                      create_resource_group = False,\n",
    "                      location = 'eastus'\n",
    "                     )\n",
    "ws.write_config()\n",
    "ws.get_details()"
   ]
  },
  {
   "cell_type": "markdown",
   "metadata": {},
   "source": [
    "This is a library of pipeline steps / primitives for creating batch training pipelines from logs produced by personalization service. Also, you can find some recipe pipelines which can be either used as-is or as a reference."
   ]
  },
  {
   "cell_type": "markdown",
   "metadata": {},
   "source": [
    "For creating pipeline application context is required:"
   ]
  },
  {
   "cell_type": "code",
   "execution_count": null,
   "metadata": {},
   "outputs": [],
   "source": [
    "ws.datastores # list out all datastores"
   ]
  },
  {
   "cell_type": "code",
   "execution_count": 2,
   "metadata": {},
   "outputs": [],
   "source": [
    "import application\n",
    "from application import context\n",
    "\n",
    "# set up where to read the log files\n",
    "ctx = context.Context(\n",
    "    accountName = 'dstutorial01eus',\n",
    "    accountKey = 'TaaDrF3p5gU6uwDlz557B95SqciyFOAI5cBke12VsuIN5ptbxfzMrWcHPKiQnc85ptlFa5nYRP1TtgLbdCsykw==',\n",
    "    appId = 'tutorial-002',\n",
    "    appFolder = '20181012202114'\n",
    ")"
   ]
  },
  {
   "cell_type": "markdown",
   "metadata": {},
   "source": [
    "Now you can create batch training pipeline for vw batch training:"
   ]
  },
  {
   "cell_type": "markdown",
   "metadata": {},
   "source": [
    "Created pipeline can be either submitted for execution:"
   ]
  },
  {
   "cell_type": "markdown",
   "metadata": {},
   "source": [
    "Or published to be available via REST endpoint:"
   ]
  },
  {
   "cell_type": "markdown",
   "metadata": {},
   "source": [
    "Example of REST call:\n",
    "Reference for better understanding of Azure ML authentication:\n",
    "https://github.com/Azure/MachineLearningNotebooks/blob/f16bf27e26d6ff7a2cf76e8cbcda4ccc9c878a0c/how-to-use-azureml/manage-azureml-service/authentication-in-azureml/authentication-in-azure-ml.ipynb"
   ]
  },
  {
   "cell_type": "code",
   "execution_count": 3,
   "metadata": {},
   "outputs": [
    {
     "name": "stdout",
     "output_type": "stream",
     "text": [
      "Found existing cluster: python\n",
      "Best command selection step is created successfully\n",
      "Data store for the app context {dstutorial01eustutorial002} is found\n",
      "<azureml.core.runconfig.RunConfiguration object at 0x0000019EF043AE80>\n",
      "Found existing cluster: extractor\n",
      "Cache step is successfully created\n",
      "Found existing cluster: vw\n",
      "Found existing cluster: python\n",
      "Vw sweep step is successfully created\n",
      "['--cache_folder', $AZUREML_DATAREFERENCE_Cache, '--model_folder', $AZUREML_DATAREFERENCE_models, '--output_folder', $AZUREML_DATAREFERENCE_Predictions, '--command_folders', $AZUREML_DATAREFERENCE_Hyper1_best_commands]\n",
      "==inputs==\n",
      "[$AZUREML_DATAREFERENCE_Cache, $AZUREML_DATAREFERENCE_Hyper1_best_commands]\n",
      "Found existing cluster: vw-predict\n",
      "Vw predict step is successfully created\n",
      "Data store for the app context {dstutorial01eustutorial002} is found\n",
      "Found existing cluster: dashboard\n",
      "Dashboard step is successfully created\n",
      "extractPipeline is succesfully created.\n",
      "Step Predict is ready to be created [9adc7685]\n",
      "extractPipeline is succesfully validated.\n"
     ]
    }
   ],
   "source": [
    "from pipelines import extract_pipeline\n",
    "extractPipeline = extract_pipeline.create_pipeline(ws, ctx, parallel_jobs = 2) # I only parallel running 2 jobs for now for debugging purpose"
   ]
  },
  {
   "cell_type": "code",
   "execution_count": 4,
   "metadata": {},
   "outputs": [
    {
     "name": "stdout",
     "output_type": "stream",
     "text": [
      "Created step Prepare command [96ce223c][8dcbde83-cf1d-4ee3-b2a3-c3e7688f71f9], (This step is eligible to reuse a previous run's output)\n",
      "Created step Cache [ae9dc5be][613777aa-4c13-4cbb-a214-287630251da2], (This step is eligible to reuse a previous run's output)\n",
      "Created step Predict [9adc7685][79c6b087-d7c8-40ad-9c66-99372478520c], (This step will run and generate new outputs)\n",
      "Created step Best command [aece9349][2164f51d-1fdb-4568-a67c-5e2e0f4ec1bd], (This step is eligible to reuse a previous run's output)\n",
      "Created step Sweep [vw] [8c0fad3e][6c5fea11-55f6-4875-bcb9-fda04dc13c2e], (This step will run and generate new outputs)\n",
      "Created step Dashboard [0582d2d5][dcebc69c-c859-41d4-9cab-7a645643e3d5], (This step is eligible to reuse a previous run's output)\n",
      "Using data reference Application_logs for StepId [552d346f][e4e1ba10-3080-46c7-9e73-a15913e89bcc], (Consumers of this data are eligible to reuse prior runs.)\n",
      "Using data reference Application_logs for StepId [d7a5255a][e4e1ba10-3080-46c7-9e73-a15913e89bcc], (Consumers of this data are eligible to reuse prior runs.)\n",
      "Submitted pipeline run: 78ded938-76d0-43ea-b29b-9289be46802d\n",
      "Extract Pipeline is submitted for execution\n"
     ]
    },
    {
     "data": {
      "application/vnd.jupyter.widget-view+json": {
       "model_id": "55173484ca574abc84a3721b24b9f5b6",
       "version_major": 2,
       "version_minor": 0
      },
      "text/plain": [
       "_PipelineWidget(widget_settings={'childWidgetDisplay': 'popup', 'send_telemetry': False, 'log_level': 'INFO', …"
      ]
     },
     "metadata": {},
     "output_type": "display_data"
    }
   ],
   "source": [
    "# pipeline params set up the date range of logs\n",
    "\n",
    "from azureml.core import Experiment  \n",
    "regen_outputs = False\n",
    "extractExperiment = Experiment(ws, 'tutorial_with_quad').submit(\n",
    "    extractPipeline, \n",
    "    pipeline_params = {\n",
    "        \"start_date\":'10/12/2018',\n",
    "        \"end_date\":'10/12/2018'\n",
    "    }, \n",
    "    regenerate_outputs = regen_outputs\n",
    ")\n",
    "print(\"Extract Pipeline is submitted for execution\")\n",
    "from azureml.widgets import RunDetails\n",
    "RunDetails(extractExperiment).show()"
   ]
  },
  {
   "cell_type": "code",
   "execution_count": null,
   "metadata": {},
   "outputs": [],
   "source": []
  }
 ],
 "metadata": {
  "kernelspec": {
   "display_name": "Python 3",
   "language": "python",
   "name": "python3"
  },
  "language_info": {
   "codemirror_mode": {
    "name": "ipython",
    "version": 3
   },
   "file_extension": ".py",
   "mimetype": "text/x-python",
   "name": "python",
   "nbconvert_exporter": "python",
   "pygments_lexer": "ipython3",
   "version": "3.6.5"
  }
 },
 "nbformat": 4,
 "nbformat_minor": 2
}
