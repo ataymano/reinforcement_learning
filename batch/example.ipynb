{
 "cells": [
  {
   "cell_type": "markdown",
   "metadata": {},
   "source": [
    "Implemented on top of AzureML.\n",
    "Reference: https://docs.microsoft.com/en-us/azure/machine-learning/"
   ]
  },
  {
   "cell_type": "markdown",
   "metadata": {},
   "source": [
    "Pipelines are going to be created inside some Azure ML workspace.\n",
    "If you already have one, you can get the reference:"
   ]
  },
  {
   "cell_type": "code",
   "execution_count": null,
   "metadata": {},
   "outputs": [],
   "source": [
    "# if you already have a workspace created, just run this to initialize workspace config\n",
    "# if you haven't created a workspace, skip this\n",
    "from azureml.core import Workspace\n",
    "\n",
    "ws = Workspace.from_config()"
   ]
  },
  {
   "cell_type": "markdown",
   "metadata": {},
   "source": [
    "In case if you do not have, any you can either create it on Azure portal or programmatically:"
   ]
  },
  {
   "cell_type": "code",
   "execution_count": 1,
   "metadata": {},
   "outputs": [
    {
     "name": "stdout",
     "output_type": "stream",
     "text": [
      "Deploying AppInsights with name chengoffinsightsqiqbtigj.\n",
      "Deployed AppInsights with name chengoffinsightsqiqbtigj.\n",
      "Deploying ContainerRegistry with name chengoffacrniwgyaxl.\n",
      "Deployed ContainerRegistry with name chengoffacrniwgyaxl.\n",
      "Deploying KeyVault with name chengoffkeyvaulttwwvedae.\n",
      "Deploying StorageAccount with name chengoffstoragexetzcrsu.\n",
      "Deployed KeyVault with name chengoffkeyvaulttwwvedae.\n",
      "Deployed StorageAccount with name chengoffstoragexetzcrsu.\n",
      "Deploying Workspace with name cheng_offline_dashboard.\n",
      "Deployed Workspace with name cheng_offline_dashboard.\n",
      "Wrote the config file config.json to: C:\\dev\\reinforcement_learning\\batch\\aml_config\\config.json\n"
     ]
    },
    {
     "data": {
      "text/plain": [
       "{'id': '/subscriptions/9a2d7383-3c7d-492c-94fc-ba65be408672/resourceGroups/cps-dev-cheng/providers/Microsoft.MachineLearningServices/workspaces/cheng_offline_dashboard',\n",
       " 'name': 'cheng_offline_dashboard',\n",
       " 'location': 'eastus',\n",
       " 'type': 'Microsoft.MachineLearningServices/workspaces',\n",
       " 'workspaceid': '51b349c5-5c00-47f4-a69c-2ee18e3ff298',\n",
       " 'description': '',\n",
       " 'friendlyName': 'cheng_offline_dashboard',\n",
       " 'creationTime': '2019-04-01T16:20:28.0067625+00:00',\n",
       " 'containerRegistry': '/subscriptions/9a2d7383-3c7d-492c-94fc-ba65be408672/resourcegroups/cps-dev-cheng/providers/microsoft.containerregistry/registries/chengoffacrniwgyaxl',\n",
       " 'keyVault': '/subscriptions/9a2d7383-3c7d-492c-94fc-ba65be408672/resourcegroups/cps-dev-cheng/providers/microsoft.keyvault/vaults/chengoffkeyvaulttwwvedae',\n",
       " 'applicationInsights': '/subscriptions/9a2d7383-3c7d-492c-94fc-ba65be408672/resourcegroups/cps-dev-cheng/providers/microsoft.insights/components/chengoffinsightsqiqbtigj',\n",
       " 'identityPrincipalId': 'ddd14bbf-6192-427a-95c1-89d736c58722',\n",
       " 'identityTenantId': '72f988bf-86f1-41af-91ab-2d7cd011db47',\n",
       " 'identityType': 'SystemAssigned',\n",
       " 'storageAccount': '/subscriptions/9a2d7383-3c7d-492c-94fc-ba65be408672/resourcegroups/cps-dev-cheng/providers/microsoft.storage/storageaccounts/chengoffstoragexetzcrsu'}"
      ]
     },
     "execution_count": 1,
     "metadata": {},
     "output_type": "execute_result"
    }
   ],
   "source": [
    "# if you don't have a workspace already created then run this step\n",
    "# if workspace already created, skip this step\n",
    "from azureml.core import Workspace\n",
    "ws = Workspace.create(name = \"cheng_offline_dashboard\",\n",
    "                      subscription_id = \"9a2d7383-3c7d-492c-94fc-ba65be408672\",\n",
    "                      resource_group = \"cps-dev-cheng\",\n",
    "                      create_resource_group = False,\n",
    "                      location = 'eastus'\n",
    "                     )\n",
    "ws.write_config()\n",
    "ws.get_details()"
   ]
  },
  {
   "cell_type": "markdown",
   "metadata": {},
   "source": [
    "This is a library of pipeline steps / primitives for creating batch training pipelines from logs produced by personalization service. Also, you can find some recipe pipelines which can be either used as-is or as a reference."
   ]
  },
  {
   "cell_type": "markdown",
   "metadata": {},
   "source": [
    "For creating pipeline application context is required:"
   ]
  },
  {
   "cell_type": "code",
   "execution_count": null,
   "metadata": {},
   "outputs": [],
   "source": [
    "ws.datastores # list out all datastores, this step is optional"
   ]
  },
  {
   "cell_type": "code",
   "execution_count": 2,
   "metadata": {},
   "outputs": [],
   "source": [
    "import application\n",
    "from application import context\n",
    "\n",
    "# set up where to read the log files\n",
    "ctx = context.Context(\n",
    "    accountName = 'chengmystorage',\n",
    "    accountKey = 'OOvXDYUpXqfd9kyipcGyThuVQqh+avvHl36hRcBjeA53FBBtLkx0L0dRJhqpMJV4dXVfYGOWngH9qols20rzPQ==',\n",
    "    appId = 'large',\n",
    "    appFolder = 'folder'\n",
    ")"
   ]
  },
  {
   "cell_type": "markdown",
   "metadata": {},
   "source": [
    "Now you can create batch training pipeline for vw batch training:"
   ]
  },
  {
   "cell_type": "markdown",
   "metadata": {},
   "source": [
    "Created pipeline can be either submitted for execution:"
   ]
  },
  {
   "cell_type": "markdown",
   "metadata": {},
   "source": [
    "Or published to be available via REST endpoint:"
   ]
  },
  {
   "cell_type": "markdown",
   "metadata": {},
   "source": [
    "Example of REST call:\n",
    "Reference for better understanding of Azure ML authentication:\n",
    "https://github.com/Azure/MachineLearningNotebooks/blob/f16bf27e26d6ff7a2cf76e8cbcda4ccc9c878a0c/how-to-use-azureml/manage-azureml-service/authentication-in-azureml/authentication-in-azure-ml.ipynb"
   ]
  },
  {
   "cell_type": "code",
   "execution_count": 3,
   "metadata": {},
   "outputs": [
    {
     "name": "stdout",
     "output_type": "stream",
     "text": [
      "Creating new AmlCompute cluster: python\n",
      "Creating\n",
      "Succeeded............\n",
      "AmlCompute wait for completion finished\n",
      "Minimum number of nodes requested have been provisioned\n",
      "Best command selection step is created successfully\n",
      "Registering datastore for {chengmystoragelarge}\n",
      "<azureml.core.runconfig.RunConfiguration object at 0x0000018768B2E1D0>\n",
      "Creating new AmlCompute cluster: extractor\n",
      "Creating\n",
      "Succeeded...............\n",
      "AmlCompute wait for completion finished\n",
      "Minimum number of nodes requested have been provisioned\n",
      "Cache step is successfully created\n",
      "Creating new AmlCompute cluster: vw\n",
      "Creating\n",
      "Succeeded...............\n",
      "AmlCompute wait for completion finished\n",
      "Minimum number of nodes requested have been provisioned\n",
      "Found existing cluster: python\n",
      "Vw sweep step is successfully created\n",
      "$AZUREML_DATAREFERENCE_command\n",
      "Creating new AmlCompute cluster: vw-predict\n",
      "Creating\n",
      "Succeeded............\n",
      "AmlCompute wait for completion finished\n",
      "Minimum number of nodes requested have been provisioned\n",
      "Vw predict step is successfully created\n",
      "extractPipeline is succesfully created.\n",
      "Step Prepare command is ready to be created [eda16ab9]\n",
      "Step Cache is ready to be created [8b0cd543]\n",
      "Step Predict is ready to be created [de0e4fec]\n",
      "Step Best command is ready to be created [6ad4ea8b]\n",
      "Step Sweep [vw] is ready to be created [4c9ddfa2]\n",
      "Data reference Application_logs is ready to be created [1000c488], (Consumers of this data will generate new runs.)\n",
      "extractPipeline is succesfully validated.\n"
     ]
    }
   ],
   "source": [
    "from pipelines import extract_pipeline\n",
    "extractPipeline = extract_pipeline.create_pipeline(ws, ctx, parallel_jobs = 2) # I only parallel running 2 jobs for now for debugging purpose"
   ]
  },
  {
   "cell_type": "code",
   "execution_count": 4,
   "metadata": {},
   "outputs": [
    {
     "name": "stdout",
     "output_type": "stream",
     "text": [
      "Created step Prepare command [eda16ab9][1a2c417c-2a6e-49ce-a936-52aecb8ba997], (This step will run and generate new outputs)\n",
      "Created step Cache [8b0cd543][78c197e2-a1cc-48ab-9cf0-d2e83b143814], (This step will run and generate new outputs)\n",
      "Created step Predict [de0e4fec][e7d15e31-311f-4716-ab8e-db190edf92db], (This step will run and generate new outputs)\n",
      "Created step Best command [6ad4ea8b][bc4e3fca-cf2f-44bf-9b98-1fa939360feb], (This step will run and generate new outputs)\n",
      "Created step Sweep [vw] [4c9ddfa2][9ae1fe9f-9368-4832-8e86-77887086e6c8], (This step will run and generate new outputs)\n",
      "Created data reference Application_logs for StepId [1000c488][2dd58e67-bc3a-4b0f-b8c2-126ee8484f4f], (Consumers of this data will generate new runs.)\n",
      "Submitted pipeline run: 221973dd-80ef-4ad7-b96e-01f2bddb39d5\n",
      "Extract Pipeline is submitted for execution\n"
     ]
    },
    {
     "data": {
      "application/vnd.jupyter.widget-view+json": {
       "model_id": "b579c847aa334ff3b97b46ac10cb396c",
       "version_major": 2,
       "version_minor": 0
      },
      "text/plain": [
       "_PipelineWidget(widget_settings={'childWidgetDisplay': 'popup', 'send_telemetry': False, 'log_level': 'INFO', …"
      ]
     },
     "metadata": {},
     "output_type": "display_data"
    }
   ],
   "source": [
    "# pipeline params set up the date range of logs\n",
    "\n",
    "from azureml.core import Experiment  \n",
    "regen_outputs = False\n",
    "extractExperiment = Experiment(ws, 'test_sweep').submit(\n",
    "    extractPipeline, \n",
    "    pipeline_params = {\n",
    "        \"start_date\":'10/13/2018',\n",
    "        \"end_date\":'10/13/2018'\n",
    "    }, \n",
    "    regenerate_outputs = regen_outputs\n",
    ")\n",
    "print(\"Extract Pipeline is submitted for execution\")\n",
    "from azureml.widgets import RunDetails\n",
    "RunDetails(extractExperiment).show()"
   ]
  },
  {
   "cell_type": "code",
   "execution_count": null,
   "metadata": {},
   "outputs": [],
   "source": []
  }
 ],
 "metadata": {
  "kernelspec": {
   "display_name": "Python 3",
   "language": "python",
   "name": "python3"
  },
  "language_info": {
   "codemirror_mode": {
    "name": "ipython",
    "version": 3
   },
   "file_extension": ".py",
   "mimetype": "text/x-python",
   "name": "python",
   "nbconvert_exporter": "python",
   "pygments_lexer": "ipython3",
   "version": "3.6.5"
  }
 },
 "nbformat": 4,
 "nbformat_minor": 2
}
