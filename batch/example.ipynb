{
 "cells": [
  {
   "cell_type": "markdown",
   "metadata": {},
   "source": [
    "Implemented on top of AzureML.\n",
    "Reference: https://docs.microsoft.com/en-us/azure/machine-learning/"
   ]
  },
  {
   "cell_type": "markdown",
   "metadata": {},
   "source": [
    "Pipelines are going to be created inside some Azure ML workspace.\n",
    "If you already have one, you can get the reference:"
   ]
  },
  {
   "cell_type": "code",
   "execution_count": 1,
   "metadata": {},
   "outputs": [
    {
     "name": "stdout",
     "output_type": "stream",
     "text": [
      "Found the config file in: C:\\dev\\reinforcement_learning\\batch\\aml_config\\config.json\n"
     ]
    }
   ],
   "source": [
    "# if you already have a workspace created, just run this to initialize workspace config\n",
    "# if you haven't created a workspace, skip this\n",
    "from azureml.core import Workspace\n",
    "\n",
    "ws = Workspace.from_config()"
   ]
  },
  {
   "cell_type": "markdown",
   "metadata": {},
   "source": [
    "In case if you do not have, any you can either create it on Azure portal or programmatically:"
   ]
  },
  {
   "cell_type": "code",
   "execution_count": null,
   "metadata": {},
   "outputs": [],
   "source": [
    "# if you don't have a workspace already created then run this step\n",
    "from azureml.core import Workspace\n",
    "ws = Workspace.create(name = \"cheng_dashboard_debug\",\n",
    "                      subscription_id = \"9a2d7383-3c7d-492c-94fc-ba65be408672\",\n",
    "                      resource_group = \"cps-dev-cheng\",\n",
    "                      create_resource_group = False,\n",
    "                      location = 'eastus'\n",
    "                     )\n",
    "ws.write_config()\n",
    "ws.get_details()"
   ]
  },
  {
   "cell_type": "markdown",
   "metadata": {},
   "source": [
    "This is a library of pipeline steps / primitives for creating batch training pipelines from logs produced by personalization service. Also, you can find some recipe pipelines which can be either used as-is or as a reference."
   ]
  },
  {
   "cell_type": "markdown",
   "metadata": {},
   "source": [
    "For creating pipeline application context is required:"
   ]
  },
  {
   "cell_type": "code",
   "execution_count": null,
   "metadata": {},
   "outputs": [],
   "source": [
    "ws.datastores # list out all datastores"
   ]
  },
  {
   "cell_type": "code",
   "execution_count": 2,
   "metadata": {},
   "outputs": [],
   "source": [
    "import application\n",
    "from application import context\n",
    "\n",
    "# set up where to read the log files\n",
    "ctx = context.Context(\n",
    "    accountName = 'chengmystorage',\n",
    "    accountKey = 'OOvXDYUpXqfd9kyipcGyThuVQqh+avvHl36hRcBjeA53FBBtLkx0L0dRJhqpMJV4dXVfYGOWngH9qols20rzPQ==',\n",
    "    appId = 'large',\n",
    "    appFolder = 'folder'\n",
    ")"
   ]
  },
  {
   "cell_type": "markdown",
   "metadata": {},
   "source": [
    "Now you can create batch training pipeline for vw batch training:"
   ]
  },
  {
   "cell_type": "markdown",
   "metadata": {},
   "source": [
    "Created pipeline can be either submitted for execution:"
   ]
  },
  {
   "cell_type": "markdown",
   "metadata": {},
   "source": [
    "Or published to be available via REST endpoint:"
   ]
  },
  {
   "cell_type": "markdown",
   "metadata": {},
   "source": [
    "Example of REST call:\n",
    "Reference for better understanding of Azure ML authentication:\n",
    "https://github.com/Azure/MachineLearningNotebooks/blob/f16bf27e26d6ff7a2cf76e8cbcda4ccc9c878a0c/how-to-use-azureml/manage-azureml-service/authentication-in-azureml/authentication-in-azure-ml.ipynb"
   ]
  },
  {
   "cell_type": "code",
   "execution_count": null,
   "metadata": {},
   "outputs": [],
   "source": [
    "from pipelines import extract_pipeline\n",
    "extractPipeline = extract_pipeline.create_pipeline(ws, ctx, parallel_jobs = 4) # I only parallel running 2 jobs for now for debugging purpose"
   ]
  },
  {
   "cell_type": "code",
   "execution_count": null,
   "metadata": {},
   "outputs": [],
   "source": [
    "# pipeline params set up the date range of logs\n",
    "\n",
    "from azureml.core import Experiment  \n",
    "regen_outputs = False\n",
    "extractExperiment = Experiment(ws, 'iris_100k_hyper1_sweep').submit(\n",
    "    extractPipeline, \n",
    "    pipeline_params = {\n",
    "        \"start_date\":'10/21/2018',\n",
    "        \"end_date\":'10/22/2018'\n",
    "    }, \n",
    "    regenerate_outputs = regen_outputs\n",
    ")\n",
    "print(\"Extract Pipeline is submitted for execution\")\n",
    "from azureml.widgets import RunDetails\n",
    "RunDetails(extractExperiment).show()"
   ]
  },
  {
   "cell_type": "code",
   "execution_count": null,
   "metadata": {},
   "outputs": [],
   "source": []
  }
 ],
 "metadata": {
  "kernelspec": {
   "display_name": "Python 3",
   "language": "python",
   "name": "python3"
  },
  "language_info": {
   "codemirror_mode": {
    "name": "ipython",
    "version": 3
   },
   "file_extension": ".py",
   "mimetype": "text/x-python",
   "name": "python",
   "nbconvert_exporter": "python",
   "pygments_lexer": "ipython3",
   "version": "3.6.5"
  }
 },
 "nbformat": 4,
 "nbformat_minor": 2
}
