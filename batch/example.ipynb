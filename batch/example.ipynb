{
 "cells": [
  {
   "cell_type": "markdown",
   "metadata": {},
   "source": [
    "Implemented on top of AzureML.\n",
    "Reference: https://docs.microsoft.com/en-us/azure/machine-learning/"
   ]
  },
  {
   "cell_type": "markdown",
   "metadata": {},
   "source": [
    "Pipelines are going to be created inside some Azure ML workspace.\n",
    "If you already have one, you can get the reference:"
   ]
  },
  {
   "cell_type": "code",
   "execution_count": 1,
   "metadata": {},
   "outputs": [
    {
     "name": "stdout",
     "output_type": "stream",
     "text": [
      "Found the config file in: C:\\dev\\reinforcement_learning\\batch\\aml_config\\config.json\n"
     ]
    }
   ],
   "source": [
    "from azureml.core import Workspace\n",
    "\n",
    "ws = Workspace.from_config()"
   ]
  },
  {
   "cell_type": "markdown",
   "metadata": {},
   "source": [
    "In case if you do not have, any you can either create it on Azure portal or programmatically:"
   ]
  },
  {
   "cell_type": "code",
   "execution_count": null,
   "metadata": {},
   "outputs": [],
   "source": [
    "# from azureml.core import Workspace\n",
    "# ws = Workspace.create(name = \"cheng_offline_dashboard\",\n",
    "#                       subscription_id = \"9a2d7383-3c7d-492c-94fc-ba65be408672\",\n",
    "#                       resource_group = \"cps-dev-cheng\",\n",
    "#                       create_resource_group = False,\n",
    "#                       location = 'eastus'\n",
    "#                      )\n",
    "# ws.write_config()\n",
    "# ws.get_details()"
   ]
  },
  {
   "cell_type": "markdown",
   "metadata": {},
   "source": [
    "This is a library of pipeline steps / primitives for creating batch training pipelines from logs produced by personalization service. Also, you can find some recipe pipelines which can be either used as-is or as a reference."
   ]
  },
  {
   "cell_type": "markdown",
   "metadata": {},
   "source": [
    "For creating pipeline application context is required:"
   ]
  },
  {
   "cell_type": "code",
   "execution_count": 2,
   "metadata": {},
   "outputs": [
    {
     "data": {
      "text/plain": [
       "{'workspaceblobstore': <azureml.data.azure_storage_datastore.AzureBlobDatastore at 0x1b5db4a0198>,\n",
       " 'workspacefilestore': <azureml.data.azure_storage_datastore.AzureFileDatastore at 0x1b5db4a9240>,\n",
       " 'ataymanodevsmall': <azureml.data.azure_storage_datastore.AzureBlobDatastore at 0x1b5db4a0780>,\n",
       " 'ataymanodevataymanosflocal': <azureml.data.azure_storage_datastore.AzureBlobDatastore at 0x1b5db4a0630>,\n",
       " 'ataymanodevafdtest1': <azureml.data.azure_storage_datastore.AzureBlobDatastore at 0x1b5cc156358>,\n",
       " 'cpsdevtestingmarcotest': <azureml.data.azure_storage_datastore.AzureBlobDatastore at 0x1b5db432dd8>,\n",
       " 'ataymanodevmiddle': <azureml.data.azure_storage_datastore.AzureBlobDatastore at 0x1b5db46bf28>,\n",
       " 'ataymanodevlarge': <azureml.data.azure_storage_datastore.AzureBlobDatastore at 0x1b5db46b208>,\n",
       " 'chengmystoragelarge': <azureml.data.azure_storage_datastore.AzureBlobDatastore at 0x1b5db4a95c0>,\n",
       " 'chengmystorageend2end': <azureml.data.azure_storage_datastore.AzureBlobDatastore at 0x1b5db4a98d0>}"
      ]
     },
     "execution_count": 2,
     "metadata": {},
     "output_type": "execute_result"
    }
   ],
   "source": [
    "ws.datastores"
   ]
  },
  {
   "cell_type": "code",
   "execution_count": 3,
   "metadata": {},
   "outputs": [],
   "source": [
    "import application\n",
    "from application import context\n",
    "\n",
    "ctx = context.Context(\n",
    "    accountName = 'chengmystorage',\n",
    "    accountKey = 'OOvXDYUpXqfd9kyipcGyThuVQqh+avvHl36hRcBjeA53FBBtLkx0L0dRJhqpMJV4dXVfYGOWngH9qols20rzPQ==',\n",
    "    appId = 'large',\n",
    "    appFolder = 'folder'\n",
    ")"
   ]
  },
  {
   "cell_type": "markdown",
   "metadata": {},
   "source": [
    "Now you can create batch training pipeline for vw batch training:"
   ]
  },
  {
   "cell_type": "markdown",
   "metadata": {},
   "source": [
    "Created pipeline can be either submitted for execution:"
   ]
  },
  {
   "cell_type": "markdown",
   "metadata": {},
   "source": [
    "Or published to be available via REST endpoint:"
   ]
  },
  {
   "cell_type": "markdown",
   "metadata": {},
   "source": [
    "Example of REST call:\n",
    "Reference for better understanding of Azure ML authentication:\n",
    "https://github.com/Azure/MachineLearningNotebooks/blob/f16bf27e26d6ff7a2cf76e8cbcda4ccc9c878a0c/how-to-use-azureml/manage-azureml-service/authentication-in-azureml/authentication-in-azure-ml.ipynb"
   ]
  },
  {
   "cell_type": "code",
   "execution_count": 4,
   "metadata": {},
   "outputs": [
    {
     "name": "stdout",
     "output_type": "stream",
     "text": [
      "Data store for the app context {chengmystoragelarge} is found\n",
      "<azureml.core.runconfig.RunConfiguration object at 0x000001B5DB7F2A58>\n",
      "Found existing cluster: extractor\n",
      "Cache step is successfully created\n",
      "Found existing cluster: python\n",
      "Best command selection step is created successfully\n",
      "Found existing cluster: vw-predict\n",
      "Vw predict step is successfully created\n",
      "Data store for the app context {chengmystoragelarge} is found\n",
      "Found existing cluster: dashboard\n",
      "Dashboard step is successfully created\n",
      "extractPipeline is succesfully created.\n",
      "Step Dashboard is ready to be created [7374c476]\n",
      "extractPipeline is succesfully validated.\n"
     ]
    }
   ],
   "source": [
    "from pipelines import extract_pipeline\n",
    "extractPipeline = extract_pipeline.create_pipeline(ws, ctx, parallel_jobs = 100)"
   ]
  },
  {
   "cell_type": "code",
   "execution_count": 5,
   "metadata": {},
   "outputs": [
    {
     "name": "stdout",
     "output_type": "stream",
     "text": [
      "Created step Cache [dd07d931][8d0c42bb-6a40-4e49-a70f-67d3dc119de7], (This step is eligible to reuse a previous run's output)\n",
      "Created step Predict [c3bbe563][47e1ad1f-6db7-4112-b681-7f5c77a3e917], (This step is eligible to reuse a previous run's output)\n",
      "Created step Prepare command [c67f80ad][6e3fe8b9-6911-43c1-b177-37a7e7ca0c8b], (This step is eligible to reuse a previous run's output)\n",
      "Created step Dashboard [7374c476][2d359bae-959c-47e0-b265-7accf0d554a7], (This step will run and generate new outputs)\n",
      "Using data reference Application_logs for StepId [a9a8f02f][5b4385df-17be-405c-87e2-03be22dccecc], (Consumers of this data are eligible to reuse prior runs.)\n",
      "Using data reference Application_logs for StepId [433e493c][5b4385df-17be-405c-87e2-03be22dccecc], (Consumers of this data are eligible to reuse prior runs.)\n",
      "Submitted pipeline run: 821515fe-b622-42d5-b67e-c0509e779b77\n",
      "Extract Pipeline is submitted for execution\n"
     ]
    },
    {
     "data": {
      "application/vnd.jupyter.widget-view+json": {
       "model_id": "98d3a5e2fd0449abaa2cd945d3d4306d",
       "version_major": 2,
       "version_minor": 0
      },
      "text/plain": [
       "_PipelineWidget(widget_settings={'childWidgetDisplay': 'popup', 'send_telemetry': False, 'log_level': 'INFO', …"
      ]
     },
     "metadata": {},
     "output_type": "display_data"
    }
   ],
   "source": [
    "from azureml.core import Experiment  \n",
    "regen_outputs = False\n",
    "extractExperiment = Experiment(ws, 'test_large_file').submit(\n",
    "    extractPipeline, \n",
    "    pipeline_params = {\n",
    "        \"start_date\":'10/21/2018',\n",
    "        \"end_date\":'10/22/2018'\n",
    "    }, \n",
    "    regenerate_outputs = regen_outputs\n",
    ")\n",
    "print(\"Extract Pipeline is submitted for execution\")\n",
    "from azureml.widgets import RunDetails\n",
    "RunDetails(extractExperiment).show()"
   ]
  },
  {
   "cell_type": "code",
   "execution_count": null,
   "metadata": {},
   "outputs": [],
   "source": []
  }
 ],
 "metadata": {
  "kernelspec": {
   "display_name": "Python 3",
   "language": "python",
   "name": "python3"
  },
  "language_info": {
   "codemirror_mode": {
    "name": "ipython",
    "version": 3
   },
   "file_extension": ".py",
   "mimetype": "text/x-python",
   "name": "python",
   "nbconvert_exporter": "python",
   "pygments_lexer": "ipython3",
   "version": "3.6.5"
  }
 },
 "nbformat": 4,
 "nbformat_minor": 2
}
