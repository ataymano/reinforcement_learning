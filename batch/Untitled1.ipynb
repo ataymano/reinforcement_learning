{
 "cells": [
  {
   "cell_type": "code",
   "execution_count": 4,
   "metadata": {},
   "outputs": [
    {
     "name": "stdout",
     "output_type": "stream",
     "text": [
      "['1.cache']\n"
     ]
    }
   ],
   "source": [
    "cache_list = ['1.cache', '1.vw']\n",
    "cache_list = filter(lambda f: '.cache' in f, cache_list)\n",
    "cache_list = sorted(cache_list)\n",
    "print(cache_list)"
   ]
  }
 ],
 "metadata": {
  "kernelspec": {
   "display_name": "Python 3",
   "language": "python",
   "name": "python3"
  },
  "language_info": {
   "codemirror_mode": {
    "name": "ipython",
    "version": 3
   },
   "file_extension": ".py",
   "mimetype": "text/x-python",
   "name": "python",
   "nbconvert_exporter": "python",
   "pygments_lexer": "ipython3",
   "version": "3.6.5"
  }
 },
 "nbformat": 4,
 "nbformat_minor": 2
}
