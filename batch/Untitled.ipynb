{
 "cells": [
  {
   "cell_type": "code",
   "execution_count": 5,
   "metadata": {},
   "outputs": [
    {
     "ename": "SyntaxError",
     "evalue": "Missing parentheses in call to 'print'. Did you mean print(\"blah\")? (<ipython-input-5-88c5c42902b2>, line 1)",
     "output_type": "error",
     "traceback": [
      "\u001b[1;36m  File \u001b[1;32m\"<ipython-input-5-88c5c42902b2>\"\u001b[1;36m, line \u001b[1;32m1\u001b[0m\n\u001b[1;33m    print \"blah\"\u001b[0m\n\u001b[1;37m               ^\u001b[0m\n\u001b[1;31mSyntaxError\u001b[0m\u001b[1;31m:\u001b[0m Missing parentheses in call to 'print'. Did you mean print(\"blah\")?\n"
     ]
    }
   ],
   "source": [
    "print \"blah\""
   ]
  },
  {
   "cell_type": "code",
   "execution_count": 13,
   "metadata": {},
   "outputs": [
    {
     "ename": "AttributeError",
     "evalue": "'NoneType' object has no attribute 'group'",
     "output_type": "error",
     "traceback": [
      "\u001b[1;31m---------------------------------------------------------------------------\u001b[0m",
      "\u001b[1;31mAttributeError\u001b[0m                            Traceback (most recent call last)",
      "\u001b[1;32m<ipython-input-13-e538a8845218>\u001b[0m in \u001b[0;36m<module>\u001b[1;34m\u001b[0m\n\u001b[0;32m      4\u001b[0m \u001b[0mstr2\u001b[0m \u001b[1;33m=\u001b[0m \u001b[1;34m'/usr/local/bin/vw --cb_adf --dsjson --cb_type ips --l1 0 --power_t 0.001 -l 0.1   --save_resume --preserve_performance_counters --cache_file /mnt/batch/tasks/shared/LS_root/jobs/cheng_offline_dashboard/azureml/test_sweep_1554168249928_0/mounts/workspaceblobstore/azureml/baf32783-1af9-4ff3-8b95-acdd9d89e0d0/Cache/20181022.cache -i /mnt/batch/tasks/shared/LS_root/jobs/cheng_offline_dashboard/azureml/test_sweep_1554168249928_0/mounts/workspaceblobstore/azureml/baf32783-1af9-4ff3-8b95-acdd9d89e0d0/Cache/20181021.vw'\u001b[0m\u001b[1;33m\u001b[0m\u001b[0m\n\u001b[0;32m      5\u001b[0m \u001b[0mmatcher\u001b[0m \u001b[1;33m=\u001b[0m \u001b[0mre\u001b[0m\u001b[1;33m.\u001b[0m\u001b[0msearch\u001b[0m\u001b[1;33m(\u001b[0m\u001b[1;34m'\\d+\\.cache$'\u001b[0m\u001b[1;33m,\u001b[0m \u001b[0mstr2\u001b[0m\u001b[1;33m)\u001b[0m\u001b[1;33m\u001b[0m\u001b[0m\n\u001b[1;32m----> 6\u001b[1;33m \u001b[0mprint\u001b[0m\u001b[1;33m(\u001b[0m\u001b[0mmatcher\u001b[0m\u001b[1;33m.\u001b[0m\u001b[0mgroup\u001b[0m\u001b[1;33m(\u001b[0m\u001b[1;36m0\u001b[0m\u001b[1;33m)\u001b[0m\u001b[1;33m.\u001b[0m\u001b[0msplit\u001b[0m\u001b[1;33m(\u001b[0m\u001b[1;34m'.'\u001b[0m\u001b[1;33m)\u001b[0m\u001b[1;33m[\u001b[0m\u001b[1;36m0\u001b[0m\u001b[1;33m]\u001b[0m\u001b[1;33m)\u001b[0m\u001b[1;33m\u001b[0m\u001b[0m\n\u001b[0m",
      "\u001b[1;31mAttributeError\u001b[0m: 'NoneType' object has no attribute 'group'"
     ]
    }
   ],
   "source": [
    "import re\n",
    "str1 = '/usr/local/bin/vw --cb_adf --dsjson --cb_type ips --l1 0 --power_t 0.001 -l 0.1   --save_resume --preserve_performance_counters --cache_file /mnt/batch/tasks/shared/LS_root/jobs/cheng_offline_dashboard/azureml/test_sweep_1554168249928_0/mounts/workspaceblobstore/azureml/baf32783-1af9-4ff3-8b95-acdd9d89e0d0/Cache/20181021.cache'\n",
    "\n",
    "str2 = '/usr/local/bin/vw --cb_adf --dsjson --cb_type ips --l1 0 --power_t 0.001 -l 0.1   --save_resume --preserve_performance_counters --cache_file /mnt/batch/tasks/shared/LS_root/jobs/cheng_offline_dashboard/azureml/test_sweep_1554168249928_0/mounts/workspaceblobstore/azureml/baf32783-1af9-4ff3-8b95-acdd9d89e0d0/Cache/20181022.cache -i /mnt/batch/tasks/shared/LS_root/jobs/cheng_offline_dashboard/azureml/test_sweep_1554168249928_0/mounts/workspaceblobstore/azureml/baf32783-1af9-4ff3-8b95-acdd9d89e0d0/Cache/20181021.vw'\n",
    "matcher = re.search('\\d+\\.cache$', str2)\n",
    "print(matcher.group(0).split('.')[0])\n"
   ]
  },
  {
   "cell_type": "code",
   "execution_count": null,
   "metadata": {},
   "outputs": [],
   "source": []
  },
  {
   "cell_type": "code",
   "execution_count": null,
   "metadata": {},
   "outputs": [],
   "source": []
  },
  {
   "cell_type": "code",
   "execution_count": null,
   "metadata": {},
   "outputs": [],
   "source": []
  }
 ],
 "metadata": {
  "kernelspec": {
   "display_name": "Python 3",
   "language": "python",
   "name": "python3"
  },
  "language_info": {
   "codemirror_mode": {
    "name": "ipython",
    "version": 3
   },
   "file_extension": ".py",
   "mimetype": "text/x-python",
   "name": "python",
   "nbconvert_exporter": "python",
   "pygments_lexer": "ipython3",
   "version": "3.6.5"
  }
 },
 "nbformat": 4,
 "nbformat_minor": 2
}
