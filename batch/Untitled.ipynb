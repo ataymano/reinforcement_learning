{
 "cells": [
  {
   "cell_type": "code",
   "execution_count": 15,
   "metadata": {},
   "outputs": [],
   "source": [
    "import datetime\n",
    "start_date_str = '10/11/2018'\n",
    "end_date_str = '11/11/2018'\n",
    "start_date = datetime.datetime.strptime(start_date_str, '%m/%d/%Y')\n",
    "end_date = datetime.datetime.strptime(end_date_str, '%m/%d/%Y')"
   ]
  },
  {
   "cell_type": "code",
   "execution_count": 16,
   "metadata": {},
   "outputs": [
    {
     "data": {
      "text/plain": [
       "43"
      ]
     },
     "execution_count": 16,
     "metadata": {},
     "output_type": "execute_result"
    }
   ],
   "source": [
    "day_diff = (end_date - start_date).days + 1\n",
    "\n",
    "start_date.day + day_diff"
   ]
  },
  {
   "cell_type": "code",
   "execution_count": 26,
   "metadata": {},
   "outputs": [
    {
     "name": "stdout",
     "output_type": "stream",
     "text": [
      "2018\n",
      "2018\n",
      "2018\n",
      "2018\n",
      "2018\n",
      "2018\n",
      "2018\n",
      "2018\n",
      "2018\n",
      "2018\n",
      "2018\n",
      "2018\n",
      "2018\n",
      "2018\n",
      "2018\n",
      "2018\n",
      "2018\n",
      "2018\n",
      "2018\n",
      "2018\n",
      "2018\n",
      "2018\n",
      "2018\n",
      "2018\n",
      "2018\n",
      "2018\n",
      "2018\n",
      "2018\n",
      "2018\n",
      "2018\n",
      "2018\n",
      "2018\n"
     ]
    }
   ],
   "source": [
    "for i in range((end_date - start_date).days + 1):\n",
    "    date = start_date + datetime.timedelta(i)\n",
    "    print(date.year)"
   ]
  },
  {
   "cell_type": "code",
   "execution_count": 27,
   "metadata": {},
   "outputs": [
    {
     "name": "stdout",
     "output_type": "stream",
     "text": [
      "test date empty\n"
     ]
    }
   ],
   "source": [
    "test_date = None\n",
    "\n",
    "if test_date:\n",
    "    print('test date exist')\n",
    "else:\n",
    "    print('test date empty')\n"
   ]
  },
  {
   "cell_type": "code",
   "execution_count": null,
   "metadata": {},
   "outputs": [],
   "source": []
  }
 ],
 "metadata": {
  "kernelspec": {
   "display_name": "Python 3",
   "language": "python",
   "name": "python3"
  },
  "language_info": {
   "codemirror_mode": {
    "name": "ipython",
    "version": 3
   },
   "file_extension": ".py",
   "mimetype": "text/x-python",
   "name": "python",
   "nbconvert_exporter": "python",
   "pygments_lexer": "ipython3",
   "version": "3.6.5"
  }
 },
 "nbformat": 4,
 "nbformat_minor": 2
}
