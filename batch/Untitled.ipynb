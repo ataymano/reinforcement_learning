{
 "cells": [
  {
   "cell_type": "code",
   "execution_count": null,
   "metadata": {},
   "outputs": [],
   "source": [
    "print \"blah\""
   ]
  },
  {
   "cell_type": "code",
   "execution_count": null,
   "metadata": {},
   "outputs": [],
   "source": [
    "import re\n",
    "str1 = '/usr/local/bin/vw --cb_adf --dsjson --cb_type ips --l1 0 --power_t 0.001 -l 0.1   --save_resume --preserve_performance_counters --cache_file /mnt/batch/tasks/shared/LS_root/jobs/cheng_offline_dashboard/azureml/test_sweep_1554168249928_0/mounts/workspaceblobstore/azureml/baf32783-1af9-4ff3-8b95-acdd9d89e0d0/Cache/20181021.cache'\n",
    "\n",
    "str2 = '/usr/local/bin/vw --cb_adf --dsjson --cb_type ips --l1 0 --power_t 0.001 -l 0.1   --save_resume --preserve_performance_counters --cache_file /mnt/batch/tasks/shared/LS_root/jobs/cheng_offline_dashboard/azureml/test_sweep_1554168249928_0/mounts/workspaceblobstore/azureml/baf32783-1af9-4ff3-8b95-acdd9d89e0d0/Cache/20181022.cache -i /mnt/batch/tasks/shared/LS_root/jobs/cheng_offline_dashboard/azureml/test_sweep_1554168249928_0/mounts/workspaceblobstore/azureml/baf32783-1af9-4ff3-8b95-acdd9d89e0d0/Cache/20181021.vw'\n",
    "matcher = re.search('\\d+\\.cache$', str2)\n",
    "print(matcher.group(0).split('.')[0])\n"
   ]
  },
  {
   "cell_type": "code",
   "execution_count": null,
   "metadata": {},
   "outputs": [],
   "source": [
    "command='--cb_adf --dsjson --cb_type mtr --l1 1E-06 --power_t 0.5 -l 0.001  --marginal A'\n",
    "q_index = command.find('-q')\n",
    "marginal_index = command.find('--marginal')\n",
    "quad_index = 0\n",
    "if (q_index > -1 and marginal_index > -1):\n",
    "    quad_index = min(q_index, marginal_index)\n",
    "elif (q_index > -1):\n",
    "    quad_index = q_index\n",
    "else:\n",
    "    quad_index = marginal_index\n",
    "print(quad_index)\n",
    "command = command[quad_index:]\n",
    "print(command)        "
   ]
  },
  {
   "cell_type": "code",
   "execution_count": null,
   "metadata": {},
   "outputs": [],
   "source": [
    "min(2, 5)"
   ]
  },
  {
   "cell_type": "code",
   "execution_count": null,
   "metadata": {},
   "outputs": [],
   "source": [
    "-0.002827 < -0.002019"
   ]
  }
 ],
 "metadata": {
  "kernelspec": {
   "display_name": "Python 3",
   "language": "python",
   "name": "python3"
  },
  "language_info": {
   "codemirror_mode": {
    "name": "ipython",
    "version": 3
   },
   "file_extension": ".py",
   "mimetype": "text/x-python",
   "name": "python",
   "nbconvert_exporter": "python",
   "pygments_lexer": "ipython3",
   "version": "3.6.5"
  }
 },
 "nbformat": 4,
 "nbformat_minor": 2
}
