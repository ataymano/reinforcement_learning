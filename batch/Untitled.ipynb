{
 "cells": [
  {
   "cell_type": "code",
   "execution_count": null,
   "metadata": {},
   "outputs": [],
   "source": [
    "import datetime\n",
    "start_date_str = '10/11/2018'\n",
    "end_date_str = '11/11/2018'\n",
    "start_date = datetime.datetime.strptime(start_date_str, '%m/%d/%Y')\n",
    "end_date = datetime.datetime.strptime(end_date_str, '%m/%d/%Y')"
   ]
  },
  {
   "cell_type": "code",
   "execution_count": null,
   "metadata": {},
   "outputs": [],
   "source": [
    "day_diff = (end_date - start_date).days + 1\n",
    "\n",
    "start_date.day + day_diff"
   ]
  },
  {
   "cell_type": "code",
   "execution_count": null,
   "metadata": {},
   "outputs": [],
   "source": [
    "for i in range((end_date - start_date).days + 1):\n",
    "    date = start_date + datetime.timedelta(i)\n",
    "    print(date.year)"
   ]
  },
  {
   "cell_type": "code",
   "execution_count": null,
   "metadata": {},
   "outputs": [],
   "source": [
    "test_date = None\n",
    "\n",
    "if test_date:\n",
    "    print('test date exist')\n",
    "else:\n",
    "    print('test date empty')\n"
   ]
  },
  {
   "cell_type": "code",
   "execution_count": null,
   "metadata": {},
   "outputs": [],
   "source": [
    "obj = {\n",
    "    'keyblah': 'valblah'\n",
    "}\n",
    "\n",
    "for key, val in obj.items():\n",
    "        print(key, val)"
   ]
  }
 ],
 "metadata": {
  "kernelspec": {
   "display_name": "Python 3",
   "language": "python",
   "name": "python3"
  },
  "language_info": {
   "codemirror_mode": {
    "name": "ipython",
    "version": 3
   },
   "file_extension": ".py",
   "mimetype": "text/x-python",
   "name": "python",
   "nbconvert_exporter": "python",
   "pygments_lexer": "ipython3",
   "version": "3.6.5"
  }
 },
 "nbformat": 4,
 "nbformat_minor": 2
}
