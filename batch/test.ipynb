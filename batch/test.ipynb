{
 "nbformat": 4,
 "nbformat_minor": 2,
 "metadata": {
  "language_info": {
   "name": "python",
   "codemirror_mode": {
    "name": "ipython",
    "version": 3
   },
   "version": "3.7.5"
  },
  "orig_nbformat": 2,
  "file_extension": ".py",
  "mimetype": "text/x-python",
  "name": "python",
  "npconvert_exporter": "python",
  "pygments_lexer": "ipython3",
  "version": 3
 },
 "cells": [
  {
   "cell_type": "code",
   "execution_count": 2,
   "metadata": {},
   "outputs": [
    {
     "name": "stdout",
     "output_type": "stream",
     "text": "['{\"_label_cost\":0,\"_label_probability\":0,\"_label_Action\":1,\"_labelIndex\":0,\"o\":[{\"v\":0.0,\"EventId\":\"f5e774da-28a8-4a1d-a7fb-f8a1ce6f65f4\",\"ActionTaken\":false}],\"Timestamp\":\"2019-11-12T14:22:37.2290000Z\",\"Version\":\"1\",\"EventId\":\"f5e774da-28a8-4a1d-a7fb-f8a1ce6f65f4\",\"a\":[1,2],\"c\":{ \"GUser\":{\"id\":\"rnc\", \"major\": \"engineering\", \"hobby\": \"hiking\", \"favorite_character\":\"spock\"}, \"_multi\": [{ \"TAction\": { \"topic\": \"HerbGarden\" } },{ \"TAction\": { \"topic\": \"MachineLearning\" } }] },\"p\":[0.0,0.0],\"VWState\":{\"m\":\"N/A\"}}\\n', '{\"_label_cost\":0,\"_label_probability\":0,\"_label_Action\":2,\"_labelIndex\":1,\"o\":[{\"v\":0.0,\"EventId\":\"fb31e07f-f9f2-4f1a-813f-291cada266aa\",\"ActionTaken\":false}],\"Timestamp\":\"2019-11-12T14:22:37.2290000Z\",\"Version\":\"1\",\"EventId\":\"fb31e07f-f9f2-4f1a-813f-291cada266aa\",\"a\":[2,1],\"c\":{ \"GUser\":{\"id\":\"rnc\", \"major\": \"engineering\", \"hobby\": \"hiking\", \"favorite_character\":\"spock\"}, \"_multi\": [{ \"TAction\": { \"topic\": \"HerbGarden\" } },{ \"TAction\": { \"topic\": \"MachineLearning\" } }] },\"p\":[0.0,0.0],\"VWState\":{\"m\":\"N/A\"}}\\n']\n"
    }
   ],
   "source": [
    "from common import client, context\n",
    "import datetime\n",
    "c = context.Context(account_name = 'ataymanodev', account_key = 'WxDBTcax+bxLNc6ECKWLKU0ZTj5ZKUV67ei5eiyi2dR2NlONZrh8jby9YpONf8sHH8kJGA9ZAz6FDR9CQOyd2g==', container='small', folder = 'folder')\n",
    "logs = client.TenantStorageClient(context = c)\n",
    "i = 0\n",
    "start = datetime.datetime(2018, 10, 12)\n",
    "end = datetime.datetime(2018, 10, 12)\n",
    "for line in logs._iterate(start, end, 2):\n",
    "    print(line)\n",
    "    i = i + 1\n",
    "    if i > 0:\n",
    "        break\n",
    "\n"
   ]
  },
  {
   "cell_type": "code",
   "execution_count": 1,
   "metadata": {},
   "outputs": [
    {
     "ename": "AttributeError",
     "evalue": "CB",
     "output_type": "error",
     "traceback": [
      "\u001b[0;31m---------------------------------------------------------------------------\u001b[0m",
      "\u001b[0;31mAttributeError\u001b[0m                            Traceback (most recent call last)",
      "\u001b[0;32m<ipython-input-1-63c69bb4ffa8>\u001b[0m in \u001b[0;36m<module>\u001b[0;34m\u001b[0m\n\u001b[1;32m      2\u001b[0m \u001b[0;32mimport\u001b[0m \u001b[0mdatetime\u001b[0m\u001b[0;34m\u001b[0m\u001b[0;34m\u001b[0m\u001b[0m\n\u001b[1;32m      3\u001b[0m \u001b[0mc\u001b[0m \u001b[0;34m=\u001b[0m \u001b[0mcontext\u001b[0m\u001b[0;34m.\u001b[0m\u001b[0mContext\u001b[0m\u001b[0;34m(\u001b[0m\u001b[0maccount_name\u001b[0m \u001b[0;34m=\u001b[0m \u001b[0;34m'ataymanodev'\u001b[0m\u001b[0;34m,\u001b[0m \u001b[0maccount_key\u001b[0m \u001b[0;34m=\u001b[0m \u001b[0;34m'WxDBTcax+bxLNc6ECKWLKU0ZTj5ZKUV67ei5eiyi2dR2NlONZrh8jby9YpONf8sHH8kJGA9ZAz6FDR9CQOyd2g=='\u001b[0m\u001b[0;34m,\u001b[0m \u001b[0mcontainer\u001b[0m\u001b[0;34m=\u001b[0m\u001b[0;34m'small'\u001b[0m\u001b[0;34m,\u001b[0m \u001b[0mfolder\u001b[0m \u001b[0;34m=\u001b[0m \u001b[0;34m'folder'\u001b[0m\u001b[0;34m)\u001b[0m\u001b[0;34m\u001b[0m\u001b[0;34m\u001b[0m\u001b[0m\n\u001b[0;32m----> 4\u001b[0;31m \u001b[0mlogs\u001b[0m \u001b[0;34m=\u001b[0m \u001b[0mclient\u001b[0m\u001b[0;34m.\u001b[0m\u001b[0mDSJsonLogsClient\u001b[0m\u001b[0;34m(\u001b[0m\u001b[0mcontext\u001b[0m \u001b[0;34m=\u001b[0m \u001b[0mc\u001b[0m\u001b[0;34m,\u001b[0m \u001b[0mproblem\u001b[0m \u001b[0;34m=\u001b[0m \u001b[0mproblem\u001b[0m\u001b[0;34m.\u001b[0m\u001b[0mType\u001b[0m\u001b[0;34m.\u001b[0m\u001b[0mCB\u001b[0m\u001b[0;34m,\u001b[0m \u001b[0mis_dense\u001b[0m \u001b[0;34m=\u001b[0m \u001b[0mfalse\u001b[0m\u001b[0;34m)\u001b[0m\u001b[0;34m\u001b[0m\u001b[0;34m\u001b[0m\u001b[0m\n\u001b[0m\u001b[1;32m      5\u001b[0m \u001b[0mi\u001b[0m \u001b[0;34m=\u001b[0m \u001b[0;36m0\u001b[0m\u001b[0;34m\u001b[0m\u001b[0;34m\u001b[0m\u001b[0m\n\u001b[1;32m      6\u001b[0m \u001b[0mstart\u001b[0m \u001b[0;34m=\u001b[0m \u001b[0mdatetime\u001b[0m\u001b[0;34m.\u001b[0m\u001b[0mdatetime\u001b[0m\u001b[0;34m(\u001b[0m\u001b[0;36m2018\u001b[0m\u001b[0;34m,\u001b[0m \u001b[0;36m10\u001b[0m\u001b[0;34m,\u001b[0m \u001b[0;36m12\u001b[0m\u001b[0;34m)\u001b[0m\u001b[0;34m\u001b[0m\u001b[0;34m\u001b[0m\u001b[0m\n",
      "\u001b[0;32m/usr/local/Cellar/python/3.7.5/Frameworks/Python.framework/Versions/3.7/lib/python3.7/enum.py\u001b[0m in \u001b[0;36m__getattr__\u001b[0;34m(cls, name)\u001b[0m\n\u001b[1;32m    347\u001b[0m             \u001b[0;32mreturn\u001b[0m \u001b[0mcls\u001b[0m\u001b[0;34m.\u001b[0m\u001b[0m_member_map_\u001b[0m\u001b[0;34m[\u001b[0m\u001b[0mname\u001b[0m\u001b[0;34m]\u001b[0m\u001b[0;34m\u001b[0m\u001b[0;34m\u001b[0m\u001b[0m\n\u001b[1;32m    348\u001b[0m         \u001b[0;32mexcept\u001b[0m \u001b[0mKeyError\u001b[0m\u001b[0;34m:\u001b[0m\u001b[0;34m\u001b[0m\u001b[0;34m\u001b[0m\u001b[0m\n\u001b[0;32m--> 349\u001b[0;31m             \u001b[0;32mraise\u001b[0m \u001b[0mAttributeError\u001b[0m\u001b[0;34m(\u001b[0m\u001b[0mname\u001b[0m\u001b[0;34m)\u001b[0m \u001b[0;32mfrom\u001b[0m \u001b[0;32mNone\u001b[0m\u001b[0;34m\u001b[0m\u001b[0;34m\u001b[0m\u001b[0m\n\u001b[0m\u001b[1;32m    350\u001b[0m \u001b[0;34m\u001b[0m\u001b[0m\n\u001b[1;32m    351\u001b[0m     \u001b[0;32mdef\u001b[0m \u001b[0m__getitem__\u001b[0m\u001b[0;34m(\u001b[0m\u001b[0mcls\u001b[0m\u001b[0;34m,\u001b[0m \u001b[0mname\u001b[0m\u001b[0;34m)\u001b[0m\u001b[0;34m:\u001b[0m\u001b[0;34m\u001b[0m\u001b[0;34m\u001b[0m\u001b[0m\n",
      "\u001b[0;31mAttributeError\u001b[0m: CB"
     ]
    }
   ],
   "source": [
    "from common import client, context, problem\n",
    "import datetime\n",
    "c = context.Context(account_name = 'ataymanodev', account_key = 'WxDBTcax+bxLNc6ECKWLKU0ZTj5ZKUV67ei5eiyi2dR2NlONZrh8jby9YpONf8sHH8kJGA9ZAz6FDR9CQOyd2g==', container='small', folder = 'folder')\n",
    "logs = client.DSJsonLogsClient(context = c, problem = problem.Type.CB, is_dense = False)\n",
    "i = 0\n",
    "start = datetime.datetime(2018, 10, 12)\n",
    "end = datetime.datetime(2018, 10, 12)\n",
    "for batch in logs.iterate(start, end, 2):\n",
    "    print(line)\n",
    "    i = i + 1\n",
    "    if i > 0:\n",
    "        break\n",
    "\n"
   ]
  },
  {
   "cell_type": "code",
   "metadata": {},
   "outputs": [],
   "source": []
  }
 ]
}